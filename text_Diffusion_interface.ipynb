{
  "nbformat": 4,
  "nbformat_minor": 0,
  "metadata": {
    "colab": {
      "provenance": []
    },
    "kernelspec": {
      "name": "python3",
      "display_name": "Python 3"
    },
    "language_info": {
      "name": "python"
    },
    "accelerator": "GPU",
    "gpuClass": "standard"
  },
  "cells": [
    {
      "cell_type": "markdown",
      "source": [
        "# Clone the repository:"
      ],
      "metadata": {
        "id": "-znB3z8nRvzX"
      }
    },
    {
      "cell_type": "code",
      "source": [
        "!git clone https://github.com/poonehmousavi/Diffusion_ASR.git"
      ],
      "metadata": {
        "colab": {
          "base_uri": "https://localhost:8080/"
        },
        "id": "5-cTd82f3Utr",
        "outputId": "d1662264-a920-44d3-b98f-54d89cec9f01"
      },
      "execution_count": null,
      "outputs": [
        {
          "output_type": "stream",
          "name": "stdout",
          "text": [
            "Cloning into 'Diffusion_ASR'...\n",
            "remote: Enumerating objects: 180, done.\u001b[K\n",
            "remote: Counting objects: 100% (180/180), done.\u001b[K\n",
            "remote: Compressing objects: 100% (125/125), done.\u001b[K\n",
            "remote: Total 180 (delta 89), reused 132 (delta 46), pack-reused 0\u001b[K\n",
            "Receiving objects: 100% (180/180), 67.31 KiB | 5.18 MiB/s, done.\n",
            "Resolving deltas: 100% (89/89), done.\n"
          ]
        }
      ]
    },
    {
      "cell_type": "markdown",
      "source": [
        "# Install Dependencies:"
      ],
      "metadata": {
        "id": "drajGxPNR_ax"
      }
    },
    {
      "cell_type": "code",
      "source": [
        "cd  /content/Diffusion_ASR\n",
        "!pip install e . \n",
        "!pip install -r requiremnet.txt\n"
      ],
      "metadata": {
        "colab": {
          "base_uri": "https://localhost:8080/"
        },
        "id": "BR-Yy0Jv3fuW",
        "outputId": "fb65a276-6662-4c75-a357-a25c769f1a74"
      },
      "execution_count": null,
      "outputs": [
        {
          "output_type": "stream",
          "name": "stdout",
          "text": [
            "Looking in indexes: https://pypi.org/simple, https://us-python.pkg.dev/colab-wheels/public/simple/\n",
            "Processing /content/Diffusion_ASR\n",
            "  Preparing metadata (setup.py) ... \u001b[?25l\u001b[?25hdone\n",
            "Collecting e\n",
            "  Downloading e-1.4.5.tar.gz (1.8 kB)\n",
            "  Preparing metadata (setup.py) ... \u001b[?25l\u001b[?25hdone\n",
            "Building wheels for collected packages: e, DiffusionASR\n",
            "  Building wheel for e (setup.py) ... \u001b[?25l\u001b[?25hdone\n",
            "  Created wheel for e: filename=e-1.4.5-py3-none-any.whl size=2817 sha256=a9043425d4ecbc2c3d862a7e9651b36c8e37ed1140c59ce862f15d638cfa78b2\n",
            "  Stored in directory: /root/.cache/pip/wheels/3d/dc/3e/208e61209d7750644677d72934d2997177aa34e894bd398e16\n",
            "  Building wheel for DiffusionASR (setup.py) ... \u001b[?25l\u001b[?25hdone\n",
            "  Created wheel for DiffusionASR: filename=DiffusionASR-1.0-py3-none-any.whl size=31657 sha256=a4e1c7cb82a215b55f8124f2d522b2af0da5a094169ac3a92e32f0ff4dfe51bc\n",
            "  Stored in directory: /tmp/pip-ephem-wheel-cache-i_navr33/wheels/4f/bb/8d/d9173ba256aeca9320fe0c2a8c27fed989d7de3a078a4e9a4a\n",
            "Successfully built e DiffusionASR\n",
            "Installing collected packages: e, DiffusionASR\n",
            "Successfully installed DiffusionASR-1.0 e-1.4.5\n",
            "Looking in indexes: https://pypi.org/simple, https://us-python.pkg.dev/colab-wheels/public/simple/\n",
            "Requirement already satisfied: pandas==1.5.3 in /usr/local/lib/python3.10/dist-packages (from -r requiremnet.txt (line 1)) (1.5.3)\n",
            "Collecting transformers==4.25.1 (from -r requiremnet.txt (line 2))\n",
            "  Using cached transformers-4.25.1-py3-none-any.whl (5.8 MB)\n",
            "Collecting jiwer==3.0.1 (from -r requiremnet.txt (line 3))\n",
            "  Using cached jiwer-3.0.1-py3-none-any.whl (21 kB)\n",
            "Collecting tqdm==4.64.1 (from -r requiremnet.txt (line 4))\n",
            "  Using cached tqdm-4.64.1-py2.py3-none-any.whl (78 kB)\n",
            "\u001b[31mERROR: Could not find a version that satisfies the requirement torch==0.13.1 (from versions: 1.11.0, 1.12.0, 1.12.1, 1.13.0, 1.13.1, 2.0.0)\u001b[0m\u001b[31m\n",
            "\u001b[0m\u001b[31mERROR: No matching distribution found for torch==0.13.1\u001b[0m\u001b[31m\n",
            "\u001b[0m"
          ]
        }
      ]
    },
    {
      "cell_type": "markdown",
      "source": [
        "# Data Preparation\n",
        "\n",
        "First Downlaod the data:"
      ],
      "metadata": {
        "id": "HyJzSNguSF_L"
      }
    },
    {
      "cell_type": "code",
      "source": [
        "# download dataset\n",
        "!pip install --upgrade --no-cache-dir gdown\n",
        "!gdown 1Ilyb1tRIMG6o1-crev_9V7WVfFZ92zDw  # dev-clean\n",
        "!gdown 1ZpwsJJvO83uTPSKRB3oxIFiVBiDXABf-  # test-clean\n",
        "!wget https://us.openslr.org/resources/12/train-clean-360.tar.gz  # train-clean-100"
      ],
      "metadata": {
        "colab": {
          "base_uri": "https://localhost:8080/"
        },
        "id": "SHZxJxG_3jXs",
        "outputId": "2f182b6c-9aab-4a34-b8b1-b5ba16f3e931"
      },
      "execution_count": null,
      "outputs": [
        {
          "output_type": "stream",
          "name": "stdout",
          "text": [
            "Looking in indexes: https://pypi.org/simple, https://us-python.pkg.dev/colab-wheels/public/simple/\n",
            "Requirement already satisfied: gdown in /usr/local/lib/python3.10/dist-packages (4.7.1)\n",
            "Requirement already satisfied: filelock in /usr/local/lib/python3.10/dist-packages (from gdown) (3.12.0)\n",
            "Requirement already satisfied: tqdm in /usr/local/lib/python3.10/dist-packages (from gdown) (4.65.0)\n",
            "Requirement already satisfied: requests[socks] in /usr/local/lib/python3.10/dist-packages (from gdown) (2.27.1)\n",
            "Requirement already satisfied: beautifulsoup4 in /usr/local/lib/python3.10/dist-packages (from gdown) (4.11.2)\n",
            "Requirement already satisfied: six in /usr/local/lib/python3.10/dist-packages (from gdown) (1.16.0)\n",
            "Requirement already satisfied: soupsieve>1.2 in /usr/local/lib/python3.10/dist-packages (from beautifulsoup4->gdown) (2.4.1)\n",
            "Requirement already satisfied: urllib3<1.27,>=1.21.1 in /usr/local/lib/python3.10/dist-packages (from requests[socks]->gdown) (1.26.15)\n",
            "Requirement already satisfied: charset-normalizer~=2.0.0 in /usr/local/lib/python3.10/dist-packages (from requests[socks]->gdown) (2.0.12)\n",
            "Requirement already satisfied: certifi>=2017.4.17 in /usr/local/lib/python3.10/dist-packages (from requests[socks]->gdown) (2022.12.7)\n",
            "Requirement already satisfied: idna<4,>=2.5 in /usr/local/lib/python3.10/dist-packages (from requests[socks]->gdown) (3.4)\n",
            "Requirement already satisfied: PySocks!=1.5.7,>=1.5.6 in /usr/local/lib/python3.10/dist-packages (from requests[socks]->gdown) (1.7.1)\n",
            "Downloading...\n",
            "From (uriginal): https://drive.google.com/uc?id=1Ilyb1tRIMG6o1-crev_9V7WVfFZ92zDw\n",
            "From (redirected): https://drive.google.com/uc?id=1Ilyb1tRIMG6o1-crev_9V7WVfFZ92zDw&confirm=t&uuid=b70f74c1-fa11-4529-9d18-d8f21aee109f\n",
            "To: /content/Diffusion_ASR/dev-clean.tar.gz\n",
            "100% 338M/338M [00:02<00:00, 143MB/s]\n",
            "Downloading...\n",
            "From (uriginal): https://drive.google.com/uc?id=1ZpwsJJvO83uTPSKRB3oxIFiVBiDXABf-\n",
            "From (redirected): https://drive.google.com/uc?id=1ZpwsJJvO83uTPSKRB3oxIFiVBiDXABf-&confirm=t&uuid=3d0c6709-7e82-4dfa-a719-36db6c004c58\n",
            "To: /content/Diffusion_ASR/test-clean.tar.gz\n",
            "100% 347M/347M [00:01<00:00, 174MB/s]\n",
            "Downloading...\n",
            "From: https://us.openslr.org/resources/12/train-clean-360.tar.gz\n",
            "To: /content/Diffusion_ASR/train-clean-360.tar.gz\n",
            "100% 23.0G/23.0G [13:08<00:00, 29.3MB/s]\n"
          ]
        }
      ]
    },
    {
      "cell_type": "markdown",
      "source": [
        "Extract the zip files:"
      ],
      "metadata": {
        "id": "h3Cu6ac5UHbR"
      }
    },
    {
      "cell_type": "code",
      "source": [
        "%%capture\n",
        "# extracts dataset\n",
        "!tar -xvf data/train-clean-360.tar.gz \n",
        "!tar -xvf /data/dev-clean.tar.gz \n",
        "!tar -xvf data/test-clean.tar.gz "
      ],
      "metadata": {
        "id": "QvOl1pU--NJ1"
      },
      "execution_count": null,
      "outputs": []
    },
    {
      "cell_type": "markdown",
      "source": [
        "Create train, dev and test"
      ],
      "metadata": {
        "id": "FEyqmQZvUV1M"
      }
    },
    {
      "cell_type": "code",
      "source": [
        "!python librispeech_prepare.py /content//LibriSpeech --save_folder=/content/LibriSpeech\n"
      ],
      "metadata": {
        "colab": {
          "base_uri": "https://localhost:8080/"
        },
        "id": "f_eGl9DAHswx",
        "outputId": "47c4ab7a-17f4-4f38-b414-5dcfadc62728"
      },
      "execution_count": null,
      "outputs": [
        {
          "output_type": "stream",
          "name": "stdout",
          "text": [
            "100% 104013/104014 [14:20<00:00, 120.84it/s]\n",
            "100% 2702/2703 [00:19<00:00, 141.31it/s]\n",
            "100% 2619/2620 [00:13<00:00, 190.96it/s]\n"
          ]
        }
      ]
    },
    {
      "cell_type": "markdown",
      "source": [
        "# Train VAE"
      ],
      "metadata": {
        "id": "YoHs-B0mUcqx"
      }
    },
    {
      "cell_type": "markdown",
      "source": [
        "To run the overfitting test, set --overfitting."
      ],
      "metadata": {
        "id": "J_jhBeHAVGjX"
      }
    },
    {
      "cell_type": "code",
      "source": [
        "!python  train_text_vae.py hparams/train_transformer_vae.yaml   --hub_cache_dir=/content/cache_dir/ --output_folder=/content/Difussion_ASR/transformer_vae/  --train_csv=train-clean-360.csv --data_folder=/content/gdrive/MyDrive/DifussionASR/data/ --optimizer=adamw --train_batch_size=256 --valid_batch_size=128 --test_batch_size=128 --number_of_epochs=1 \n"
      ],
      "metadata": {
        "id": "yoL_lC4BFsoP"
      },
      "execution_count": null,
      "outputs": []
    },
    {
      "cell_type": "markdown",
      "source": [
        "# Train Diffusion"
      ],
      "metadata": {
        "id": "Ahg8_KPrUzSK"
      }
    },
    {
      "cell_type": "code",
      "source": [
        "!python  train_unconditional_text_difussion.py hparams/train_difussion_bert_transformer_unconditional.yaml   --hub_cache_dir=/content/cache_dir/ --output_folder=/content/Difussion_ASR/transformer_bert_diffusion/  --train_csv=train-clean-360.csv --data_folder=/content/gdrive/MyDrive/DifussionASR/data/ --optimizer=adamw --train_batch_size=256 --valid_batch_size=128 --test_batch_size=128 --number_of_epochs=1 \n"
      ],
      "metadata": {
        "id": "JHXYoVezU3Xp"
      },
      "execution_count": null,
      "outputs": []
    },
    {
      "cell_type": "markdown",
      "source": [
        "Transfer Result to G-Drive"
      ],
      "metadata": {
        "id": "QZR4gJxFUkgv"
      }
    },
    {
      "cell_type": "code",
      "source": [
        "from google.colab import drive\n",
        "\n",
        "drive.mount('/content/gdrive')"
      ],
      "metadata": {
        "colab": {
          "base_uri": "https://localhost:8080/"
        },
        "id": "MzkCVP3zMCda",
        "outputId": "ccd43b40-75cd-4606-a8bf-b6ede41b182a"
      },
      "execution_count": null,
      "outputs": [
        {
          "output_type": "stream",
          "name": "stdout",
          "text": [
            "Drive already mounted at /content/gdrive; to attempt to forcibly remount, call drive.mount(\"/content/gdrive\", force_remount=True).\n"
          ]
        }
      ]
    },
    {
      "cell_type": "code",
      "source": [
        "!cp result /content/LibriSpeech/test-clean.csv /content/gdrive/MyDrive/DifussionASR/result\n"
      ],
      "metadata": {
        "id": "pEja07dMMOPt"
      },
      "execution_count": null,
      "outputs": []
    },
    {
      "cell_type": "markdown",
      "source": [],
      "metadata": {
        "id": "I_ZOs6fzKzup"
      }
    },
    {
      "cell_type": "markdown",
      "source": [],
      "metadata": {
        "id": "Jfc66x0RKzp4"
      }
    }
  ]
}